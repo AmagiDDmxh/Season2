{
 "cells": [
  {
   "cell_type": "markdown",
   "id": "1fcce939",
   "metadata": {},
   "source": [
    "### Warmup Test (Quiz1)\n",
    "\n",
    "<p>\n",
    "    For a unit $a∈Z^*_n$, there is some $k$ satisfying $a^k=1$. How to prove it?\n",
    "</p>"
   ]
  },
  {
   "cell_type": "markdown",
   "id": "deb767f9",
   "metadata": {},
   "source": [
    "### 1. Order of a Unit\n",
    "\n",
    "- Definition:Let $a∈Z^*_n$, the smallest positive integer $x$ for which $a^x=1(mod\\;n)$ is called the order of $a$."
   ]
  },
  {
   "cell_type": "markdown",
   "id": "f9c9e50d",
   "metadata": {},
   "source": [
    "### 2. Fermat's Little Theorem\n",
    "\n",
    "- Theorem: Let $p$ be a prime, the $a^p=a(mod\\;p)$ for any $a∈Z_p$. Alternatively, For any nonzero $a$, we have $a^{p-1}=1(mod\\; p)$.\n",
    "\n",
    "- Extension: For $a∈Z^*_{p'}$, $a^{-1}$ can be computed as $a^{p-2}$.\n",
    "\n",
    "### Quiz2: How to Prove the  Theorem?"
   ]
  },
  {
   "cell_type": "markdown",
   "id": "7625bbd9",
   "metadata": {},
   "source": [
    "### 3. Euler's Theorem\n",
    "\n",
    "- Theorem: if $a∈Z^*_n$, then $a^{\\phi(n)}=1(mod\\;n)$.\n",
    "- Proof: \n",
    "    - Let $m=\\phi(n)$, and label the units $u_1, u_2, ..., u_m$. Then the sequence of $au_1, au_2, ..., au_m$ is in another order of the units set.\n",
    "    - Followed by last step, we have $a^m\\prod_{i=1}^{i=m} u_i=\\prod_{i=1}^{i=m} u_i$. \n",
    "    - Thus, $a^{\\phi(n)}=a^m=a^m\\prod_{i=1}^{i=m} u_i\\prod_{i=1}^{i=m} u^{-1}_i=\\prod_{i=1}^{i=m} u_i\\prod_{i=1}^{i=m} u^{-1}_i=1$.\n",
    "- Extension1: $a^{-1}=a^{\\phi(n)-1}$\n",
    "- Extension2: The order of $a$ divides $\\phi(n)$. Proof as below:\n",
    "    - Let $x$ be order of $a$, if we know $a^y=1$, then for $z=gcd(x,y)$\n",
    "        - if $x=z$, then $x$ divides $y$.\n",
    "        - elif $a^z!=1$, then $x$ doesn't divide $y$. We have $k_1>1,\\:k_2>1,\\: k_2>=k_1,\\:gcd(k_1,k_2)=1$ satisfy $x=z*k_1,\\: y=z*k_2$. Then $a^{z*k_1}=a^{z*k_2}=1$, thus $a^{k_1}=a^{k_2}$,\n",
    "          $a^{k_2-k_1}=1$\n",
    "            - denote $y_2=k_2-k_1$, then $y_2>x$ and $z_2=gcd(x,y_2)$, iterate above step for finite times we must have $y_n<=x$ but $a^{y_n}=1$, which is inconsistent with $y_n>x$.\n",
    "        - Finally, $x$ divides $y$. Furthermore, the order of $a$ divides $\\phi(n)$.\n",
    "        \n",
    "### Quiz3: How to prove Extention2 in another way?"
   ]
  },
  {
   "cell_type": "markdown",
   "id": "53ddafb9",
   "metadata": {},
   "source": [
    "### 4. Multiplication and Order\n",
    "\n",
    "Let $x$ be order of $a$, $y$ be order of $b$. Suppose $(ab)^k=1$, we have $b^{kx}=(ab)^{kx}=1$, then $y|kx$. By similar caculation, it's simple to have $x|ky$.\n",
    "\n",
    "- For $a,b$ are coprime: we have $k$ is multiple of $xy$, as $(ab)^{xy}=1$, so $k=xy$.\n",
    "- For $gcd(a,b)=d>1$: we have $k$ is multiple of $xy/d^2$, as $(ab)^{xy/d}=1$, so order of $ab$ also divide {xy/d}."
   ]
  },
  {
   "cell_type": "markdown",
   "id": "d9482a24",
   "metadata": {},
   "source": [
    "### 5. RSA Problem\n",
    "\n",
    "Given positive integers $e,N,a^e(mod\\;N)$ for some unit $a$, how to recover $a$?\n",
    "\n",
    "- Strategy: \n",
    "    - Find $d$ such that $a^{de}=a(mod\\;N)$ for $de=k\\phi(N)+1$. In other words, compute $d=e^{-1}(mod\\;\\phi(N))$.\n",
    "    - Use $a^{de}$ to get $a$.\n",
    "    \n",
    "- Tips: it is not known how to compute $\\phi(N)$ from $N$ without factoring $N$, and it is not known how to factor large numbers efficiently."
   ]
  },
  {
   "cell_type": "code",
   "execution_count": null,
   "id": "0eca3b6f",
   "metadata": {},
   "outputs": [],
   "source": []
  },
  {
   "cell_type": "code",
   "execution_count": null,
   "id": "cc33880d",
   "metadata": {},
   "outputs": [],
   "source": []
  },
  {
   "cell_type": "code",
   "execution_count": null,
   "id": "f974284a",
   "metadata": {},
   "outputs": [],
   "source": []
  },
  {
   "cell_type": "code",
   "execution_count": null,
   "id": "48fe923e",
   "metadata": {},
   "outputs": [],
   "source": []
  }
 ],
 "metadata": {
  "kernelspec": {
   "display_name": "Python 3 (ipykernel)",
   "language": "python",
   "name": "python3"
  },
  "language_info": {
   "codemirror_mode": {
    "name": "ipython",
    "version": 3
   },
   "file_extension": ".py",
   "mimetype": "text/x-python",
   "name": "python",
   "nbconvert_exporter": "python",
   "pygments_lexer": "ipython3",
   "version": "3.9.13"
  }
 },
 "nbformat": 4,
 "nbformat_minor": 5
}
