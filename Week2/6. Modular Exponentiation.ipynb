{
 "cells": [
  {
   "cell_type": "markdown",
   "id": "3dad2e55",
   "metadata": {},
   "source": [
    "### 1. Warmup Test (Quiz1)\n",
    "\n",
    "<p>\n",
    "    Time complexity to calculate $a^k(mod\\;n)$ heuristically instead of brute force.\n",
    "</p>"
   ]
  },
  {
   "cell_type": "markdown",
   "id": "055a499e",
   "metadata": {},
   "source": [
    "### 2. The discrete log problem\n",
    "\n",
    "<p>\n",
    "    Let $p$ be a prime, and $g,h$ be two elements of $Z^*_p$, suppose $g^x=h(mod\\; p)$, what is $x$?\n",
    "</p>\n",
    "\n",
    "Tips: The best discrete log algorithms are faster than trying every element, but are not polynomial time."
   ]
  },
  {
   "cell_type": "markdown",
   "id": "fc0443ab",
   "metadata": {},
   "source": [
    "### 3. Nonunits under exponentiation\n",
    "\n",
    "- For prime $p$:<br>\n",
    "  Consider $n=p^k$, then $a∈Z_n$ is nonunit when $gcd(a,n)>1$, which means $a=dp$ for some $d$. Thus, we have $a^k=d^kp^k=0$. <br>\n",
    "  \n",
    "- For primes $p_i$:<br>\n",
    "  - Consider $n=\\prod_{i=1}^{i=m} (p_i^{k_i})$, by Chinese Remainder Theorem we have \n",
    "  $Z_n=Z_{p_1^{k_1}}\\times Z_{p_2^{k_2}}... \\times Z_{p_m^{k_m}}$.<br>\n",
    "  - Thus for $a∈Z_n$ responds to some $(a_1, a_2, ..., a_m)$, there is at least one certain $a_i$ is a multiple of $p_i$, it means  $a^{k_i}=0(mod \\;p_i^{k_i})$. <br>\n",
    "  - In general, for some $k$, each $a^{k}mod(p_i^{k_i})$ is zero or nonunit, thus $a^{k}mod\\;n$ is nonunit. Hence, we can restrict our study to units."
   ]
  },
  {
   "cell_type": "code",
   "execution_count": null,
   "id": "6ee17cad",
   "metadata": {},
   "outputs": [],
   "source": []
  },
  {
   "cell_type": "code",
   "execution_count": null,
   "id": "f824a45e",
   "metadata": {},
   "outputs": [],
   "source": []
  },
  {
   "cell_type": "code",
   "execution_count": null,
   "id": "2bbd4e93",
   "metadata": {},
   "outputs": [],
   "source": []
  },
  {
   "cell_type": "code",
   "execution_count": null,
   "id": "dab9ee43",
   "metadata": {},
   "outputs": [],
   "source": []
  },
  {
   "cell_type": "code",
   "execution_count": null,
   "id": "ec0a4c20",
   "metadata": {},
   "outputs": [],
   "source": []
  },
  {
   "cell_type": "code",
   "execution_count": null,
   "id": "01908614",
   "metadata": {},
   "outputs": [],
   "source": []
  }
 ],
 "metadata": {
  "kernelspec": {
   "display_name": "Python 3 (ipykernel)",
   "language": "python",
   "name": "python3"
  },
  "language_info": {
   "codemirror_mode": {
    "name": "ipython",
    "version": 3
   },
   "file_extension": ".py",
   "mimetype": "text/x-python",
   "name": "python",
   "nbconvert_exporter": "python",
   "pygments_lexer": "ipython3",
   "version": "3.9.13"
  }
 },
 "nbformat": 4,
 "nbformat_minor": 5
}
