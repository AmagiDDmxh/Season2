{
 "cells": [
  {
   "cell_type": "markdown",
   "id": "82acdc54",
   "metadata": {},
   "source": [
    "### Warmup Test\n",
    "\n",
    "<p>\n",
    "    What are the roots of $x^2-1$ modulo some prime $p$?\n",
    "</p>\n",
    "\n",
    "- Hints: for factorization $x^2-1=(x+1)(x-1)=0(mod\\;p)$ is valid for only if $p$ is prime <br>(except for those numbers which have at most two factors containing 2 or $p^k$), <br> because division of $(x^2-1)/(x+1)\\; or (x^2-1)/(x-1)$ is valid when $x\\neq \\pm 1$ only if $p$ is prime."
   ]
  },
  {
   "cell_type": "markdown",
   "id": "947f08f2",
   "metadata": {},
   "source": [
    "### 1. Root of Polynomial for Prime $p$\n",
    "\n",
    "- Theorem: let $f(x)$ be a polynomial over $Z_p$ of degree $n$. Then it has at most $n$ roots.\n",
    "- Inductive Proof: \n",
    "    - For degree is $1$, from $ax+b=0$ we can get the only root $x=-ba^{-1}$\n",
    "    - For degree is $n-1$, let polynomial $g(x)$ have $n-1$ root, then construct $f(x)=(x-a)g(x)$. $f(x)=0$ means $(x-a)$ divides $p$ or $g(x)$ divides $p$. Thus, it has at most $n$ roots."
   ]
  },
  {
   "cell_type": "markdown",
   "id": "1b3d3479",
   "metadata": {},
   "source": [
    "### 2. Composite Moduli\n",
    "<p>\n",
    "    Let $n$ be a product of distinct primes: $n=p_1p_2...p_k$. The Chinese Remainder Theorem implies we can solve \n",
    "    polynomial over each $Z_{p_i}$, and then combine roots together to find solution.\n",
    "</p>\n",
    "\n",
    "- Factorization from non-trivial roots\n",
    "\n",
    "  For non-trival roots which are not from factorization of polynomial, then $n$'s factors can be found by calculating greatest common divisor of each polynomial's factor and $n$.\n",
    "<br>\n",
    "- Take $n=77$ for an example\n",
    "\n",
    "  $Z_{77}=Z_7\\times Z_{11}$, for $n_1^2=1$ correspond to $(a,b)$ as $n_1=aqq^{-1}+bpp^{-1}$, thus we have $a^2=1$ and $b^2=1$."
   ]
  },
  {
   "cell_type": "markdown",
   "id": "98d49d94",
   "metadata": {},
   "source": [
    "### 3. Wilson's Theorem\n",
    "\n",
    "- Theorem: For integer $p>1$, we have $(p-1)!=-1(mod\\; p)$ if and only if $p$ is prime.\n",
    "- Proof:\n",
    "    - For $p$ is prime: except $x=\\pm 1$'s inverses are themselves, then other elements have unique different inverses. So $2*3... *(p-2)=1$, then $(p-1)!=-1(mod\\; p)$.\n",
    "    - For $n$ is not prime, then all factors of it are in set of $[2,3, ..., p-2]$, then $(n-1)!=0(mod\\; n)$\n",
    "    \n",
    "### Extension\n",
    "- Theorem: For an odd integer $p>1$, let $r=(p-1)/2$. Then $(-1)^r(r!)^2=-1(mod\\; p)$ if and only if $p$ is prime.\n",
    "- Proof: $(p-1)!=1(p-1)2(p-2)...((p-1)/2)((p+1)/2)=(-1)^r(r!)^2$"
   ]
  },
  {
   "cell_type": "markdown",
   "id": "75fb9898",
   "metadata": {},
   "source": []
  },
  {
   "cell_type": "code",
   "execution_count": null,
   "id": "85bae79f",
   "metadata": {},
   "outputs": [],
   "source": []
  }
 ],
 "metadata": {
  "kernelspec": {
   "display_name": "Python 3 (ipykernel)",
   "language": "python",
   "name": "python3"
  },
  "language_info": {
   "codemirror_mode": {
    "name": "ipython",
    "version": 3
   },
   "file_extension": ".py",
   "mimetype": "text/x-python",
   "name": "python",
   "nbconvert_exporter": "python",
   "pygments_lexer": "ipython3",
   "version": "3.9.13"
  }
 },
 "nbformat": 4,
 "nbformat_minor": 5
}
