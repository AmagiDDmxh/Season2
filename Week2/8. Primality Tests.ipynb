{
 "cells": [
  {
   "cell_type": "markdown",
   "id": "54757b3c",
   "metadata": {},
   "source": [
    "### Warmup Test\n",
    "\n",
    "<p>\n",
    "    Given an integer, how can we tell if $n$ is prime?\n",
    "</p>"
   ]
  },
  {
   "cell_type": "markdown",
   "id": "f0838220",
   "metadata": {},
   "source": [
    "### 1. The Fermat Test\n",
    "\n",
    "- Theoretical basis: Based on Fermat's Theorem, if $n$ is prime, then for any $a$, we have $a^{n-1}=1(mod\\;n)$.\n",
    "- Method: Pick a random $a∈[1,2, ..., n-1]$, then see if it satisfies $a^{n-1}=1(mod\\;n)$. If any $a^{n-1}!=1(mod\\;)$ found, then $n$ is not a prime. "
   ]
  },
  {
   "cell_type": "markdown",
   "id": "b4a882a4",
   "metadata": {},
   "source": [
    "### 2. Flaw of the Fermat Test\n",
    "\n",
    "- Carmichael Numbers: These are composite numbers $n$ for which all values of $a$ with $gcd(a,n)=1$ are Fermat liars. It's thankless to repeat $the\\; Fermat\\; Test$ for these numbers the same as a random search for factors.\n",
    "- Limitations: While $Carmichael\\; Numbers$ are substantially rarer than prime numbers, there are still enough of them that the Fermat Test is not often used as naively as above.\n",
    "<br>\n",
    "\n",
    "- Extensions: If $a$ is not coprime to $n$, then the Fermat test must fail, but in this case we can recover a factor of $n$, by calculating $gcd(a,n)$."
   ]
  },
  {
   "cell_type": "markdown",
   "id": "de9a84f6",
   "metadata": {},
   "source": [
    "### 3. Carmichael Numbers\n",
    "- Definition：it's a composite number $n$, for all $b$ which are relative prime to $n$ satisifies the congruence relation $b^{n-1}\\equiv 1(mod\\;n)$\n",
    "\n",
    "- Example: \n",
    "<p>\n",
    "    Take $n=561=3\\times 11\\times 7$. By $Chinese\\; Remainder\\; Theorem$, $Z_{561}=Z_3\\times Z_{11}\\times Z_7$.<br>\n",
    "    Each $a\\in Z^*_{561}$ corresponds to some $(x,y,z)\\in Z^*_3\\times Z^*_{11}\\times Z^*_7$,<br>\n",
    "    By Fermat's Theorem, $x^2=1,y^{10}=1,z^6=1$, since $2,10,6$ are all factors of $560$, this means $(x,y,z)^{560}=(1,1,1)$. <br><br>\n",
    "    In other words, $a^{560}=1$ for any $a\\in Z^*_{561}$ and $a$ is a Carmichael Number.\n",
    "</p>"
   ]
  },
  {
   "cell_type": "markdown",
   "id": "96fc0da1",
   "metadata": {},
   "source": [
    "### 4. The Miller-Rabin Test\n",
    "\n",
    "- Prior Knowledge: \n",
    "    - $n$ is prime if and only if the solutions of $x^2=1(mod\\; n)$ are $x=\\pm 1$.\n",
    "- How to Test:\n",
    "    - If $n$ pass $a^{n-1}=1$, then we also check $a^{(n-1)/2}=\\pm1$, because $a^{(n-1)/2}$ is square root of $1$.\n",
    "    - Let $n-1=2^sq$, then we have sequence $2^{s_i}q=(q, 2q, ..., 2^sq)$. \n",
    "        - Given any $a\\in Z^*_n$, if $a^q=1$, then test passed.\n",
    "        - Otherwise, for any $s_i>0$ from the sequence above satisfying $a^{2^{s_i}q}=1$, if $a^{2^{s_i-1}q}!\\pm1$, then $n$ is composite. \n",
    "        - Thus, we can iterate $s_i$ from $1$ to $s$, if $a^{2^{s_i}q}$ equals to $1$ occurs befores $-1$, which means $a^{2^{s_i+1}q}=1$ has solutions beyond $\\pm1$,so $n$ is composite.\n",
    "\n",
    "<p>\n",
    "Tips：\n",
    "These tests are compositeness tests since they do not prove the input is prime, but rather prove that an input is composite.\n",
    "</p>"
   ]
  },
  {
   "cell_type": "markdown",
   "id": "2d0fa2d5",
   "metadata": {},
   "source": [
    "### Quiz1: \n",
    "<p>What happens when we run the Miller-Rabin test on numbers of the form <em>p*q</em>, where <em>p, q</em> are large primes? Can we break RSA with it?</p>"
   ]
  },
  {
   "cell_type": "code",
   "execution_count": null,
   "id": "bbf5f9da",
   "metadata": {},
   "outputs": [],
   "source": []
  },
  {
   "cell_type": "code",
   "execution_count": null,
   "id": "cf9a4bc2",
   "metadata": {},
   "outputs": [],
   "source": []
  },
  {
   "cell_type": "code",
   "execution_count": null,
   "id": "f77f2263",
   "metadata": {},
   "outputs": [],
   "source": []
  },
  {
   "cell_type": "code",
   "execution_count": null,
   "id": "81536402",
   "metadata": {},
   "outputs": [],
   "source": []
  }
 ],
 "metadata": {
  "kernelspec": {
   "display_name": "Python 3 (ipykernel)",
   "language": "python",
   "name": "python3"
  },
  "language_info": {
   "codemirror_mode": {
    "name": "ipython",
    "version": 3
   },
   "file_extension": ".py",
   "mimetype": "text/x-python",
   "name": "python",
   "nbconvert_exporter": "python",
   "pygments_lexer": "ipython3",
   "version": "3.9.13"
  }
 },
 "nbformat": 4,
 "nbformat_minor": 5
}
