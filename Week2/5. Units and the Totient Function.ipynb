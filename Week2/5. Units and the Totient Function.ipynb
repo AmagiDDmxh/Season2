{
 "cells": [
  {
   "cell_type": "markdown",
   "id": "c2283fd8",
   "metadata": {},
   "source": [
    "### 1. Math Symbol\n",
    "\n",
    "- $unit$: if $y∈Z_n$ is invertible ($y^{-1}$ exists), then $y$ is a unit of $Z_n$.\n",
    "- $Z^*_{n}$: the set of units of $Z_n$ is denoted by $Z^*_{n}$ or $Z^{\\times}_n$"
   ]
  },
  {
   "cell_type": "markdown",
   "id": "b45ec506",
   "metadata": {},
   "source": [
    "### 2. Euler totient function\n",
    "\n",
    "- Definition: write $\\phi(n)$ for the number of elements of $Z^*_n$ or the number of integers in $[1,2,3 ..., n]$\n",
    "    coprime to $n$ except $\\phi(1)=1$.\n",
    "- For prime $p$: we have $\\phi(p)=p-1$.\n",
    "- For powers of prime $p^k$: $\\phi(p^{k})=p^k-p^{k-1}$, for there are $p^k/p-1$ modulus not coprimed to $p^k$.\n",
    "\n",
    "<p>\n",
    "    Tips: totient means number of totatives which means any coprime modulus number.\n",
    "</p>"
   ]
  },
  {
   "cell_type": "markdown",
   "id": "aded803b",
   "metadata": {},
   "source": [
    "### 3. Multiplicative\n",
    "\n",
    "- Bijection：Let $m,n$ be coprime, by Chinese Remainder Theorem, $x$ is a unit if and only if $a$ and $b$ are, then we have $Z^*_{pq}=Z^*_p\\times Z^*_q$.\n",
    "\n",
    "### Quiz1: How to prove it?\n",
    "\n",
    "- Extensive formulas\n",
    "    - For $p,q$ coprime, we have $\\phi(pq)=\\phi(p)\\phi(q)$.\n",
    "    - For primes $p_i$ and $n=\\prod_{i=1}^{i=m} p_i^{k_i}$, we have $\\phi(n)=\\prod_{i=1}^{i=m} (p_i^{k_i}-p_i^{k_i-1})=n\\prod_{i=1}^{i=m} (1-1/p_i)$."
   ]
  },
  {
   "cell_type": "code",
   "execution_count": null,
   "id": "61e7165e",
   "metadata": {},
   "outputs": [],
   "source": []
  },
  {
   "cell_type": "code",
   "execution_count": null,
   "id": "ab3177bc",
   "metadata": {},
   "outputs": [],
   "source": []
  }
 ],
 "metadata": {
  "kernelspec": {
   "display_name": "Python 3 (ipykernel)",
   "language": "python",
   "name": "python3"
  },
  "language_info": {
   "codemirror_mode": {
    "name": "ipython",
    "version": 3
   },
   "file_extension": ".py",
   "mimetype": "text/x-python",
   "name": "python",
   "nbconvert_exporter": "python",
   "pygments_lexer": "ipython3",
   "version": "3.9.13"
  }
 },
 "nbformat": 4,
 "nbformat_minor": 5
}
