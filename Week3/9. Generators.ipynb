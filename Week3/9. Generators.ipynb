{
 "cells": [
  {
   "cell_type": "markdown",
   "id": "bc00f285",
   "metadata": {},
   "source": [
    "### 1. Generator\n",
    "\n",
    "- Definition: A unit $g\\in Z^*_n$ is called generator or primitive root of $Z^*_n$ if for every $a\\in Z^*_n$ has $g^k=a$."
   ]
  },
  {
   "cell_type": "markdown",
   "id": "d8c95adf",
   "metadata": {},
   "source": [
    "### 2. Theorem\n",
    "<p>\n",
    "    Let $p$ be a prime, then $Z^*_p$ contains exactly $\\phi(p-1)$ generators. In general, for every divisor $d|p-1$, $Z^*_p$ contains $\\phi(d)$ elements of order $d$.\n",
    "</p>\n",
    "\n",
    "- Proof:\n",
    "    - By Fermat's Theorem, we have $x^{p-1}-1=0(mod\\;p)$ has $p-1$ unique root, namely every element of $Z^*_p$.\n",
    "    - Let $q^k$ be a prime power dividing $p-1$. Then we can factorize the equation above<br>\n",
    "        $x^{p-1}-1=(x^{q^k}-1)g(x)=0\\; (mod\\;p)$.<br>\n",
    "      As $g(x)$ is some degree $p-1-q^k$ polynomial, then it has at most $p-1-q^k$ roots, so $x^{q^k}-1=0\\;(mod\\;p)$ has exactly $q^k$ roots.\n",
    "    - For any $a$ as a solution of  $x^{q^k}-1=0\\;(mod\\;p)$, if its order is not $q^k$, which means its order    dividing $q^{k-1}$, <br>so it is solution of $x^{q^{k-1}}-1=0\\;(mod\\;p)$.<br>\n",
    "      So other roots of $x^{q^k}-1=0\\;(mod\\;p)$ have order $q^k$. And number of roots is $q^k-q^{k-1}=\\phi(q^k)$\n",
    "    - Factorize $p-1=\\prod_{i=1}^{i=m} q_i^{k_i}$, for any $a_i$ has order $q_i^{k_i}$, then $\\prod_{i=1}^{i=m} a_i$ has order $p-1$, then $a_i$ is a generator.<br>\n",
    "      As there are $\\phi(q_i^{k_i})$ numbers having order $q_i^{k_i}$, so there are $\\phi(p-1)=\\prod_{i=1}^{i=m} \\phi(q_i^{k_i})$ numbers having order $p-1$.\n",
    "      So we also have $\\phi(p-1)$ generators.\n",
    "      \n",
    "- Alternative Proof:\n",
    "    - Any element $a\\in Z^*_p$ must have order dividing $p-1$ (by Fermat).\n",
    "    - If $a$ has order $d$, the solutions of $x^d=1=0\\;(mod\\;p)$ are precisely $a, a^2, ..., a^d=1$. As $a^k$ has order $d$ if and only if $gcd(k,d)=1$, thus either $\\phi(d)$ elements or none have order $d$.\n",
    "    - As $\\sum_{d|p-1} \\phi(d)=p-1$, because every element has an order, so every order $d$ has $\\phi(d)$ elements."
   ]
  },
  {
   "cell_type": "markdown",
   "id": "375f014d",
   "metadata": {},
   "source": [
    "### 3. Quiz1\n",
    "\n",
    "What about powers of primes, or composite numbers in general?\n",
    "\n",
    "- $Z^*_n$ contains exactly $\\phi(\\phi(n))$ generators. In general, for every divisor $d|\\phi(n)$, $Z^*_n$ contains $\\phi(d)$ elements of order $d$.\n"
   ]
  },
  {
   "cell_type": "code",
   "execution_count": null,
   "id": "f8787482",
   "metadata": {},
   "outputs": [],
   "source": []
  },
  {
   "cell_type": "code",
   "execution_count": null,
   "id": "7da01b7c",
   "metadata": {},
   "outputs": [],
   "source": []
  },
  {
   "cell_type": "code",
   "execution_count": null,
   "id": "cd59ec1d",
   "metadata": {},
   "outputs": [],
   "source": []
  },
  {
   "cell_type": "code",
   "execution_count": null,
   "id": "40b03205",
   "metadata": {},
   "outputs": [],
   "source": []
  },
  {
   "cell_type": "code",
   "execution_count": null,
   "id": "9bb4d000",
   "metadata": {},
   "outputs": [],
   "source": []
  },
  {
   "cell_type": "code",
   "execution_count": null,
   "id": "2eefae8f",
   "metadata": {},
   "outputs": [],
   "source": []
  }
 ],
 "metadata": {
  "kernelspec": {
   "display_name": "Python 3 (ipykernel)",
   "language": "python",
   "name": "python3"
  },
  "language_info": {
   "codemirror_mode": {
    "name": "ipython",
    "version": 3
   },
   "file_extension": ".py",
   "mimetype": "text/x-python",
   "name": "python",
   "nbconvert_exporter": "python",
   "pygments_lexer": "ipython3",
   "version": "3.9.13"
  }
 },
 "nbformat": 4,
 "nbformat_minor": 5
}
