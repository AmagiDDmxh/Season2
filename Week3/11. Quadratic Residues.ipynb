{
 "cells": [
  {
   "cell_type": "markdown",
   "id": "945068e5",
   "metadata": {},
   "source": [
    "### 1. Definition\n",
    "\n",
    "<p>\n",
    "    Let $a\\in Z_n$, we say $a$ is a quadratic residue if there exists some $x$ such that $x^2=a(mod\\;n)$, otherwise $a$ is quadratic nonresidue.\n",
    "</p>"
   ]
  },
  {
   "cell_type": "markdown",
   "id": "1cf35ad0",
   "metadata": {},
   "source": [
    "### 2. Property of Quadratic Residue\n",
    "\n",
    "(For prime $p$)\n",
    "- Property1: \n",
    "    - Let $p$ be an odd prime, as $p=2$ is trivial.\n",
    "    - Let $g$ be a generator of $Z^*_p$, any $a\\in Z^*_p$ we have $a=g^k$ for some $k\\in \\{1,2, ..., p-1\\}$. When $k$ is even then $k$ can be written as $k=2m$, so $a=g^k=(g^m)^2$ must be quadratic residue. Thus at least half of $Z^*_p$ are quadratic residues.\n",
    "    - For $b^2=a$, we have $-b\\neq b$ and $(-b)^2=a$ (because $p\\neq 2$). Thus at most half of $Z^*_p$ are quadratic residues.\n",
    "    - Finally, even powers of $g$ are all $Z^*_p$'s quadratic residues.\n",
    "    \n",
    "- Property2:\n",
    "    - Given $a=g^k$\n",
    "        - If $k$ is odd, say $k=2m+1$, we get \n",
    "        $a^{(p-1)/2}=g^{(2m+1)(p-1)/2}=g^{(p-1)m+(p-1)/2}=g^{(p-1)/2}$, the square of $g^{(p-1)/2}$ is $1$ and $g$'s order is $p-1$, so $a^{(p-1)/2}=g^{(p-1)/2}=-1$.\n",
    "        - If $k$ is even, say $k=2m$, we get\n",
    "        $a^{(p-1)/2}=g^{2m(p-1)/2}=g^(p-1)m=1$."
   ]
  },
  {
   "cell_type": "markdown",
   "id": "de2d9677",
   "metadata": {},
   "source": [
    "### 3. The Legendre Symbol\n",
    "\n",
    "- Definition: For odd primes $p$ and integers $a$ by $(\\frac{a}{p}) = a^{(p-1)/2}$, the symbol can be written as $(a|p)$.\n",
    "\n",
    "- Extensions:\n",
    "    - Extension1: <br>\n",
    "    $(\\frac{a}{p}) = 1$ if $a$ is a quadratic residue of $p$;<br>\n",
    "    $(\\frac{a}{p}) = -1$ if $a$ is a quadratic nonresidue of $p$;<br>\n",
    "    $(\\frac{a}{p}) = 0$ if $a$ is $a = 0 (modp)$.<br>\n",
    "    \n",
    "    - Extension2: <br>\n",
    "        - For any integer $b$:\n",
    "        $(\\frac{a}{p}) (\\frac{b}{p})= (\\frac{ab}{p})$\n",
    "        - For any $r$ coprime to $p$:\n",
    "        $(\\frac{ar^2}{p})= (\\frac{a}{p})$"
   ]
  },
  {
   "cell_type": "code",
   "execution_count": null,
   "id": "b643050d",
   "metadata": {},
   "outputs": [],
   "source": []
  }
 ],
 "metadata": {
  "kernelspec": {
   "display_name": "Python 3 (ipykernel)",
   "language": "python",
   "name": "python3"
  },
  "language_info": {
   "codemirror_mode": {
    "name": "ipython",
    "version": 3
   },
   "file_extension": ".py",
   "mimetype": "text/x-python",
   "name": "python",
   "nbconvert_exporter": "python",
   "pygments_lexer": "ipython3",
   "version": "3.9.13"
  }
 },
 "nbformat": 4,
 "nbformat_minor": 5
}
