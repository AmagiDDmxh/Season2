{
 "cells": [
  {
   "cell_type": "markdown",
   "id": "f11ce126",
   "metadata": {},
   "source": [
    "### 1. Warmup Exercise\n",
    "\n",
    "<p>\n",
    "    How to solve x, if x satisfies <br> $x=2(mod\\;5)$, <br> $x=3(mod\\;7)$\n",
    "</p>"
   ]
  },
  {
   "cell_type": "markdown",
   "id": "dfe44446",
   "metadata": {},
   "source": [
    "### 2. Theorem\n",
    "\n",
    "<p>\n",
    "    Let $p,q$ are coprime. Then the system of equations <br> $x=a(mod\\;p)$ <br> $x=b(mod\\;q)$ <br>\n",
    "    has a unique solution for $x$ modulo $pq$.<br><br>\n",
    "    Reverse of above: Given $x∈Z_{pq}$, we can reduce $x$ modulo $p$ and $y$ modulo $q$ to obtain two equations of above.\n",
    "</p>\n",
    "\n",
    "### Proof\n",
    "\n",
    "1. Existence\n",
    "    - Let $p_1=p^{-1}(mod\\;q)$, $q_1=q^{-1}(mod\\;p)$. Because $p,q$ are coprime, $p_1,q_1$ exists.  <br>\n",
    "      then $x=aqq_1+bpp_1$ satisfies those two modulo computation.\n",
    "\n",
    "2. Uniqueness\n",
    "    - Let $z$ is another number satisfies those two modulo computation, <br>\n",
    "      then $z-x=0(mod\\;p),z-x=0(mod\\;q)$, so $z=x(mod\\;pq)$.\n",
    "      \n",
    "### For Several Equations\n",
    "\n",
    "<p>\n",
    "    Let $M=m_1*m_2...*m_n,\\; gcd(m_i,m_j)=1, whenever i\\neq j$, <br>\n",
    "    we have $x=a_i(mod\\; m_i)$ for all $i∈[1, 2, 3, ..., n]$, <br>\n",
    "    define $b_i=M/m_i$, and $b_i'=b_i^{-1}(mod\\; m_i)$, <br>\n",
    "    then $x(mod\\; M)$ respond to $x=\\sum_{i=1}^{i=n} a_i b_i b_i'$.\n",
    "</p>"
   ]
  },
  {
   "cell_type": "markdown",
   "id": "a809708b",
   "metadata": {},
   "source": [
    "### 3. Bijection between $Z_{pq}$ and $Z_p\\times Z_q$\n",
    "\n",
    "<p>\n",
    "    We can represent an element of $Z_{pq}$ by one element of $Z_p$ and one element of $Z_q$ and vice versa.\n",
    "</p>\n",
    "<br>\n",
    "\n",
    "1. Bijection of computation\n",
    "    - For $x,y∈Z_n$ respond to $(a,b), (c,d)\\;∈\\;Z_p\\times Z_q$ respectively, it's easy to get $x+y, xy$ respond to $(a+c, b+d),(ac,bd)$ respectively. \n",
    "    \n",
    "2. Computation time cost reduction\n",
    "    - Do computation in smaller numbers by bijection and convert back after that. Tradeoff is reduction in time cost in turn doubling the size of the input.\n",
    "    \n",
    "### Quiz1: compute $17 \\times 17(mod\\;35)$ by bijection"
   ]
  },
  {
   "cell_type": "markdown",
   "id": "a2f03029",
   "metadata": {},
   "source": [
    "### Quiz2: why $Z_p(p\\; is\\; prime)$ is most import case?"
   ]
  },
  {
   "cell_type": "code",
   "execution_count": null,
   "id": "ac6303ca",
   "metadata": {},
   "outputs": [],
   "source": []
  },
  {
   "cell_type": "code",
   "execution_count": null,
   "id": "576e0e45",
   "metadata": {},
   "outputs": [],
   "source": []
  }
 ],
 "metadata": {
  "kernelspec": {
   "display_name": "Python 3 (ipykernel)",
   "language": "python",
   "name": "python3"
  },
  "language_info": {
   "codemirror_mode": {
    "name": "ipython",
    "version": 3
   },
   "file_extension": ".py",
   "mimetype": "text/x-python",
   "name": "python",
   "nbconvert_exporter": "python",
   "pygments_lexer": "ipython3",
   "version": "3.9.13"
  }
 },
 "nbformat": 4,
 "nbformat_minor": 5
}
