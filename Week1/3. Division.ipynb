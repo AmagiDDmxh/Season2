{
 "cells": [
  {
   "cell_type": "markdown",
   "id": "b04ebe79",
   "metadata": {},
   "source": [
    "### 1. Math Symbol\n",
    "\n",
    "- $y^{-1}$: The inverse of $y$."
   ]
  },
  {
   "cell_type": "markdown",
   "id": "64c9ed48",
   "metadata": {},
   "source": [
    "### 2. Solve the quiz(The Proof Problem) in Modular Arithmetic\n",
    "<p>\n",
    "    For $x=yz$, a unique $z$ exists if and only if it is possible to find a unique $w∈Z_n$ such that $yw=1(mod\\;n)$.\n",
    "</p>\n",
    "\n",
    "- $x=z*y+k*n$, let $d=gcd(y,n),d=a*y+b*n,x=c*d$, then $z=c*a-t*n/d$ (for all integers $t$). Because $z$ is unique, we can get $d=1,c=x$, then $z=ax+tn$.\n",
    "- As inference above, we can get $1=a*y+b*n$ and $y^{-1}=a$ because $a$ is unique.<br><br>\n",
    "\n",
    "- We can also see $y$ has an inverse if and only if $gcd(y,n)=1$\n",
    "### Quiz: how to Proof?"
   ]
  },
  {
   "cell_type": "markdown",
   "id": "b5b9ea98",
   "metadata": {},
   "source": [
    "### 3. Compute Inverse\n",
    "\n",
    "<p>\n",
    "    Given $y∈Z_n$, does $y^{-1}$ exists, if so, what is it?\n",
    "</p>\n",
    "\n",
    "- Brute Force by iterating from $0$ to $n-1$.<br><br>\n",
    "\n",
    "- Heuristic algorithm:\n",
    "    1. Calculate $d=gcd(y,n)$ by Euclid's Algorithm.\n",
    "    2. If $d=1$, rearrange equations from computation of Euclid's Algorithm and transform into formation of $1=a*y+b*n$, then $y^{-1}=a$"
   ]
  },
  {
   "cell_type": "code",
   "execution_count": null,
   "id": "c2e27b18",
   "metadata": {},
   "outputs": [],
   "source": []
  },
  {
   "cell_type": "code",
   "execution_count": null,
   "id": "3489356f",
   "metadata": {},
   "outputs": [],
   "source": []
  },
  {
   "cell_type": "code",
   "execution_count": null,
   "id": "33b28e96",
   "metadata": {},
   "outputs": [],
   "source": []
  },
  {
   "cell_type": "code",
   "execution_count": null,
   "id": "e1ae65b2",
   "metadata": {},
   "outputs": [],
   "source": []
  },
  {
   "cell_type": "code",
   "execution_count": null,
   "id": "c03608e0",
   "metadata": {},
   "outputs": [],
   "source": []
  },
  {
   "cell_type": "code",
   "execution_count": null,
   "id": "b8b57439",
   "metadata": {},
   "outputs": [],
   "source": []
  }
 ],
 "metadata": {
  "kernelspec": {
   "display_name": "Python 3 (ipykernel)",
   "language": "python",
   "name": "python3"
  },
  "language_info": {
   "codemirror_mode": {
    "name": "ipython",
    "version": 3
   },
   "file_extension": ".py",
   "mimetype": "text/x-python",
   "name": "python",
   "nbconvert_exporter": "python",
   "pygments_lexer": "ipython3",
   "version": "3.9.13"
  }
 },
 "nbformat": 4,
 "nbformat_minor": 5
}
