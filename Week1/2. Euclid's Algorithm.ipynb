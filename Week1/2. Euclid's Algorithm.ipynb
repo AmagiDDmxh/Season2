{
 "cells": [
  {
   "cell_type": "markdown",
   "id": "a1c1adfb",
   "metadata": {},
   "source": [
    "### 1. Math Symbol\n",
    "\n",
    "- $gcd(a,b)$: Greatest common divisor of two integers $a$, $b$."
   ]
  },
  {
   "cell_type": "markdown",
   "id": "6e7d24db",
   "metadata": {},
   "source": [
    "### 2. Calculate $gcd(a,b)$ efficiently\n",
    "\n",
    "- Brute Force is feasible by listing all the divisors of $a$ and $b$.\n",
    "<br>\n",
    "\n",
    "- How to solve it heuristically？\n",
    "    1. Algorithm Process:\n",
    "        - Decompose bigger one with formation of $a = k*b + r$ $(a>b, k=a\\,//\\,b, r=a\\,mod\\,b)$, because $gcd(a,b)=gcd(a,a-k*b)=gcd(b,a-k*b)$. If $r=0$, then answer is $b$.\n",
    "        - Iterate computation above till answer is found. ( substitute $a' = b, b'=a-k*b$ ) <br><br>\n",
    "\n",
    "    2. Time Complexity Analysis\n",
    "        - In every iteration, we get $a=k*b+r$. In most time cost inefficient situation, $r>b/2$. Then in next step the remainder $r'<=b/2$. Thus every two steps, the numbers shrink by at least one bit.\n",
    "        - Time Complexity: 2log(a)"
   ]
  },
  {
   "cell_type": "markdown",
   "id": "4083e057",
   "metadata": {},
   "source": [
    "### 3. Extended Euclidean Algorithm\n",
    "\n",
    "- The iteration equations can be used to find integers $m,n$ such that $d=gcd(a,b)=m*a+n*b$\n",
    "\n",
    "### Quiz1: how to find $m,n$ for $a=33,b=27$?"
   ]
  },
  {
   "cell_type": "markdown",
   "id": "e91130f5",
   "metadata": {},
   "source": [
    "### 4. General Solution of $x,y$\n",
    "\n",
    "<p>\n",
    "    Given integers $a,b,c$, find all integers $x,y$, such that $c=x*a+y*b$.\n",
    "</p>\n",
    "\n",
    "- Step1: Let $d=gcd(a,b)$, $d$ must divide $c$, thus $c=k*d$. Based on Extended Euclidean Algorithm, $m,n$ can be found heuristically, then we get $x=k*m,y=k*n$.\n",
    "<br><br>\n",
    "\n",
    "- Step2: Suppose $x',y'$ is another solution, then $c=x*a+y*b=x'*a+y'*b$. Let $a=a'*d,b=b'*d$, then $(x'-x)a'=(y-y')b'$. Because $a',b'$ are coprime, then $x'-x=t*b',y-y'=t*a'$.\n",
    "<br><br>\n",
    "\n",
    "- Step3: Based on inference above, general solution is $x=k*m-t*b/d,y=k*n+t*a/d\\;(for\\;all\\;integers\\;t)$.\n",
    "<br><br><br>\n",
    "\n",
    "- Coprime Case: for $1=x*p+y*q$ and $p,q$ are coprime, then $x=m-t*q,y=n+t*p$."
   ]
  },
  {
   "cell_type": "code",
   "execution_count": null,
   "id": "f3657b1e",
   "metadata": {},
   "outputs": [],
   "source": []
  },
  {
   "cell_type": "code",
   "execution_count": null,
   "id": "bdae51fd",
   "metadata": {},
   "outputs": [],
   "source": []
  },
  {
   "cell_type": "code",
   "execution_count": null,
   "id": "b2a990ae",
   "metadata": {},
   "outputs": [],
   "source": []
  },
  {
   "cell_type": "code",
   "execution_count": null,
   "id": "b183d6bf",
   "metadata": {},
   "outputs": [],
   "source": []
  },
  {
   "cell_type": "code",
   "execution_count": null,
   "id": "bf6345cd",
   "metadata": {},
   "outputs": [],
   "source": []
  },
  {
   "cell_type": "code",
   "execution_count": null,
   "id": "8cb7c6f8",
   "metadata": {},
   "outputs": [],
   "source": []
  }
 ],
 "metadata": {
  "kernelspec": {
   "display_name": "Python 3 (ipykernel)",
   "language": "python",
   "name": "python3"
  },
  "language_info": {
   "codemirror_mode": {
    "name": "ipython",
    "version": 3
   },
   "file_extension": ".py",
   "mimetype": "text/x-python",
   "name": "python",
   "nbconvert_exporter": "python",
   "pygments_lexer": "ipython3",
   "version": "3.9.13"
  }
 },
 "nbformat": 4,
 "nbformat_minor": 5
}
