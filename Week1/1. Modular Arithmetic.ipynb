{
 "cells": [
  {
   "cell_type": "markdown",
   "id": "69a63bf8",
   "metadata": {},
   "source": [
    "### 1. Math Symbol\n",
    "\n",
    "- $Z_n$: Denote the set $[0, 1, 2, ..., n-1]$ by it.\n",
    "<br>\n",
    "\n",
    "- $x = y(mod\\; n)$: $x$ and $y$ are congruent modulo $n$, $y$ is residue                  of $x$. By default, we calculate least residue as                    $y$."
   ]
  },
  {
   "cell_type": "markdown",
   "id": "db50ea59",
   "metadata": {},
   "source": [
    "### 2. Arithmetic in $Z_n$\n",
    "\n",
    "- No notion of size, like $0<4(mod\\; 8)$ is nonsense.\n",
    "<br>\n",
    "\n",
    "- Operations including add, substract, multiply behave similarly to     their mundane counterparts.\n",
    "<br>\n",
    "\n",
    "- Division \n",
    "    1. Division should be \"undo multiplication\". Because for both sides divided by same number resulting in incorrect equation, that is to divide $x$ by $y$ means to find a number $z$ such that $y$ times $z$ is $x$.\n",
    "\n",
    "    <br> eg. $10 = 4(mod6) => 10/2\\;\\; != \\;\\;4/2(mod6)$ \n",
    "    <br>\n",
    "    <br>\n",
    "    2. It is required uniqueness, that is $x$ divided by $y$ modulo $n$ is only defined when there is a unique $z∈Z_n$, such that $x=yz$."
   ]
  },
  {
   "cell_type": "markdown",
   "id": "8c38f54d",
   "metadata": {},
   "source": [
    "### 3. Theorem\n",
    "\n",
    "<p>\n",
    "    For $x=yz$, a unique $z$ exists modulo $n$ only if the greatest common divisor of $y$ and $n$ is 1.\n",
    "</p>\n",
    "   \n",
    "<br>\n",
    "\n",
    "### Quiz1: how to Proof?"
   ]
  },
  {
   "cell_type": "markdown",
   "id": "1c0be806",
   "metadata": {},
   "source": [
    "### 4. Inverses\n",
    "\n",
    "<p>\n",
    "    For $x=yz$, a unique $z$ exists if and only if it is possible to find a unique $w∈Z_n$ such that $yw=1(modn)$.\n",
    "</p>\n",
    "    \n",
    "   \n",
    "<br>\n",
    "\n",
    "### Quiz2: how to Proof?"
   ]
  },
  {
   "cell_type": "code",
   "execution_count": null,
   "id": "ede70e55",
   "metadata": {},
   "outputs": [],
   "source": []
  },
  {
   "cell_type": "code",
   "execution_count": null,
   "id": "b36e354e",
   "metadata": {},
   "outputs": [],
   "source": []
  },
  {
   "cell_type": "code",
   "execution_count": null,
   "id": "746012e1",
   "metadata": {},
   "outputs": [],
   "source": []
  },
  {
   "cell_type": "code",
   "execution_count": null,
   "id": "35a79ca8",
   "metadata": {},
   "outputs": [],
   "source": []
  },
  {
   "cell_type": "code",
   "execution_count": null,
   "id": "c677995e",
   "metadata": {},
   "outputs": [],
   "source": []
  },
  {
   "cell_type": "code",
   "execution_count": null,
   "id": "56a922ef",
   "metadata": {},
   "outputs": [],
   "source": []
  },
  {
   "cell_type": "code",
   "execution_count": null,
   "id": "ce5f847f",
   "metadata": {},
   "outputs": [],
   "source": []
  },
  {
   "cell_type": "code",
   "execution_count": null,
   "id": "c63281f6",
   "metadata": {},
   "outputs": [],
   "source": []
  },
  {
   "cell_type": "code",
   "execution_count": null,
   "id": "b6c775da",
   "metadata": {},
   "outputs": [],
   "source": []
  },
  {
   "cell_type": "code",
   "execution_count": null,
   "id": "afe30b3f",
   "metadata": {},
   "outputs": [],
   "source": []
  },
  {
   "cell_type": "code",
   "execution_count": null,
   "id": "fa1c5f8c",
   "metadata": {},
   "outputs": [],
   "source": []
  },
  {
   "cell_type": "code",
   "execution_count": null,
   "id": "ea8db09c",
   "metadata": {},
   "outputs": [],
   "source": []
  },
  {
   "cell_type": "code",
   "execution_count": null,
   "id": "0522516a",
   "metadata": {},
   "outputs": [],
   "source": []
  },
  {
   "cell_type": "code",
   "execution_count": null,
   "id": "6d32be81",
   "metadata": {},
   "outputs": [],
   "source": []
  },
  {
   "cell_type": "code",
   "execution_count": null,
   "id": "c32c6150",
   "metadata": {},
   "outputs": [],
   "source": []
  },
  {
   "cell_type": "code",
   "execution_count": null,
   "id": "286a6e69",
   "metadata": {},
   "outputs": [],
   "source": []
  },
  {
   "cell_type": "code",
   "execution_count": null,
   "id": "a367a593",
   "metadata": {},
   "outputs": [],
   "source": []
  },
  {
   "cell_type": "code",
   "execution_count": null,
   "id": "322c82d9",
   "metadata": {},
   "outputs": [],
   "source": []
  }
 ],
 "metadata": {
  "kernelspec": {
   "display_name": "Python 3 (ipykernel)",
   "language": "python",
   "name": "python3"
  },
  "language_info": {
   "codemirror_mode": {
    "name": "ipython",
    "version": 3
   },
   "file_extension": ".py",
   "mimetype": "text/x-python",
   "name": "python",
   "nbconvert_exporter": "python",
   "pygments_lexer": "ipython3",
   "version": "3.9.13"
  }
 },
 "nbformat": 4,
 "nbformat_minor": 5
}
